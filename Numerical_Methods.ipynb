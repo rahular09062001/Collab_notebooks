{
  "nbformat": 4,
  "nbformat_minor": 0,
  "metadata": {
    "colab": {
      "provenance": [],
      "toc_visible": true,
      "include_colab_link": true
    },
    "kernelspec": {
      "name": "python3",
      "display_name": "Python 3"
    },
    "language_info": {
      "name": "python"
    }
  },
  "cells": [
    {
      "cell_type": "markdown",
      "metadata": {
        "id": "view-in-github",
        "colab_type": "text"
      },
      "source": [
        "<a href=\"https://colab.research.google.com/github/rahular09062001/Collab_notebooks/blob/main/Numerical_Methods.ipynb\" target=\"_parent\"><img src=\"https://colab.research.google.com/assets/colab-badge.svg\" alt=\"Open In Colab\"/></a>"
      ]
    },
    {
      "cell_type": "markdown",
      "source": [
        "$$ NumericalMethods $$"
      ],
      "metadata": {
        "id": "nVn-FVKH3OR3"
      }
    },
    {
      "cell_type": "markdown",
      "source": [
        "![image.png](https://ocw.mit.edu/courses/18-330-introduction-to-numerical-analysis-spring-2012/5df8aa2c10fe1b90737c9f0e747b0f70_18-330s12.jpg)"
      ],
      "metadata": {
        "id": "4ijO1yAn2-tr"
      }
    },
    {
      "cell_type": "markdown",
      "source": [
        "# Primary"
      ],
      "metadata": {
        "id": "N--eaX7ugNpi"
      }
    },
    {
      "cell_type": "markdown",
      "source": [
        "##Find the value of x and y\n"
      ],
      "metadata": {
        "id": "JAnY_MUGfumn"
      }
    },
    {
      "cell_type": "markdown",
      "source": [
        "find the value of x and y\n",
        "\n",
        "ax + by = c\n",
        "px + qy = r"
      ],
      "metadata": {
        "id": "0rb06iT4f5Zs"
      }
    },
    {
      "cell_type": "code",
      "execution_count": null,
      "metadata": {
        "id": "9ty7hNjSfLTS"
      },
      "outputs": [],
      "source": [
        "program find_x_y\n",
        "\n",
        "      implicit none\n",
        "\n",
        "      real :: a,b,c,p,q,r,x,y\n",
        "\n",
        "      print*,\"Enter the value of a  b  c respectively\"\n",
        "      read(*,*) a,b,c\n",
        "\n",
        "      print*,\"Enter the value of p  q  r respectively\"\n",
        "      read(*,*) p,q,r\n",
        "\n",
        "      r=r-(p*c/a)\n",
        "      q=q-(p*b/a)\n",
        "\n",
        "      if(q /= 0 ) then\n",
        "\n",
        "      y=(r/q)\n",
        "      x=(c-(b*y))/a\n",
        "\n",
        "      print*,\"The value of x =\",x\n",
        "      print*,\"The value of y =\",y\n",
        "\n",
        "      else\n",
        "              print*,\"Error \"\n",
        "\n",
        "      end if\n",
        "\n",
        "      end program find_x_y\n"
      ]
    },
    {
      "cell_type": "markdown",
      "source": [
        "## Fibinocci Sequence"
      ],
      "metadata": {
        "id": "Z1z9x_3LjsSb"
      }
    },
    {
      "cell_type": "code",
      "source": [
        "program fibinocci\n",
        "\n",
        "      implicit none\n",
        "\n",
        "      integer :: pre, cur ,new,i,n\n",
        "\n",
        "      ! pre : previous\n",
        "      ! cur : Current\n",
        "      ! new : new\n",
        "\n",
        "      pre = 0\n",
        "      cur = 1\n",
        "\n",
        "      print*,\"Enter the term you want to obtain\"\n",
        "      read(*,*) n\n",
        "      \n",
        "      100 format(\"Fibinocci No. =\",I0)\n",
        "      if (n < 1) then\n",
        "              write(*,*)\"Error\"\n",
        "\n",
        "      elseif (n==1) then\n",
        "              write(*,100)pre\n",
        "\n",
        "      elseif (n==2) then\n",
        "              write(*,100)cur\n",
        "\n",
        "      else\n",
        "              do i=1,n-2\n",
        "\n",
        "              new = pre + cur\n",
        "              pre = cur\n",
        "              cur = new\n",
        "\n",
        "              end do\n",
        "\n",
        "              write(*,100)new\n",
        "\n",
        "      end if\n",
        "\n",
        "      end program fibinocci\n",
        "\n",
        "\n"
      ],
      "metadata": {
        "id": "QIj564V7kVb7"
      },
      "execution_count": null,
      "outputs": []
    },
    {
      "cell_type": "markdown",
      "source": [
        "## Sin(x)"
      ],
      "metadata": {
        "id": "VbV3EPAU18bJ"
      }
    },
    {
      "cell_type": "markdown",
      "source": [
        "Main program"
      ],
      "metadata": {
        "id": "Aum8KdNX2Buf"
      }
    },
    {
      "cell_type": "code",
      "source": [
        "program sinx\n",
        "\n",
        "  use sinx_mod\n",
        "  implicit none\n",
        "  \n",
        "  print*,\"Enter the value of theta in degree\"\n",
        "  read(*,*)x\n",
        "  x=x*rad\n",
        "  \n",
        "  print*,\"===========\"\n",
        "  print*,\" \"\n",
        "  \n",
        "  call sinx_cal()\n",
        "  \n",
        "  \n",
        "  print*,\" Sin(x) = \",sum\n",
        "  \n",
        "  end program sinx\n",
        "  \n",
        "  \n"
      ],
      "metadata": {
        "id": "Hxsa3P4s1_tX"
      },
      "execution_count": null,
      "outputs": []
    },
    {
      "cell_type": "markdown",
      "source": [
        "Module "
      ],
      "metadata": {
        "id": "Cd1xt6n02WxK"
      }
    },
    {
      "cell_type": "code",
      "source": [
        "module sinx_mod\n",
        "\n",
        "  implicit none\n",
        "  save\n",
        "  \n",
        "  integer :: i\n",
        "  integer,parameter :: n=1000\n",
        "  real :: x,sum,term\n",
        "  real,parameter :: rad=(2*asin(1.0))/180.0\n",
        "  \n",
        "  \n",
        "  contains\n",
        "  \n",
        "  subroutine sinx_cal()\n",
        "  \n",
        "  term = x\n",
        "  sum = x\n",
        "  \n",
        "  do i=1,n-1\n",
        "  \n",
        "  term = (((-1)*(x**2))/((2*real(i)+1)*(2*real(i))))*term\n",
        "  \n",
        "   \n",
        "  \n",
        "  sum = sum + term\n",
        "  \n",
        "  \n",
        "  \n",
        "  end do \n",
        "  \n",
        "  \n",
        "  end subroutine sinx_cal\n",
        "  \n",
        "  end module  sinx_mod "
      ],
      "metadata": {
        "id": "-yxcN3VE2cw1"
      },
      "execution_count": null,
      "outputs": []
    },
    {
      "cell_type": "markdown",
      "source": [
        "## Cos(x)"
      ],
      "metadata": {
        "id": "_QDJjrlfFqXi"
      }
    },
    {
      "cell_type": "code",
      "source": [
        "program cosx\n",
        "  \n",
        "  implicit none\n",
        "  \n",
        "  integer :: i,n=100000\n",
        "  real(kind=16) :: x,term,sum\n",
        "  real,parameter :: rad = (2*asin(1.0))/180.0\n",
        "  \n",
        "  print*,\"Enter the value of theta \"\n",
        "  read(*,*) x\n",
        "  \n",
        "  x=x*rad\n",
        "  term=1.0\n",
        "  sum=term\n",
        "  \n",
        "  do i=1,n\n",
        "  \n",
        "  term = ((x**2)/(2*real(i)*((2*real(i))-1)))*term*(-1)\n",
        "  !print*,term\n",
        "  \n",
        "  sum = sum + term\n",
        "  !print*,\"sum =\",sum\n",
        "  \n",
        "  end do \n",
        "  \n",
        "  print*,\"The value of cos(\",x,\") = \",sum\n",
        "  \n",
        "end program cosx\n",
        "    \n",
        "  "
      ],
      "metadata": {
        "id": "57zgNAf3Fu7a"
      },
      "execution_count": null,
      "outputs": []
    },
    {
      "cell_type": "markdown",
      "source": [
        "# Bisection Method"
      ],
      "metadata": {
        "id": "HUT-rKMjRC02"
      }
    },
    {
      "cell_type": "markdown",
      "source": [
        "## Bisection Method 1"
      ],
      "metadata": {
        "id": "0-i8KvkdtwBY"
      }
    },
    {
      "cell_type": "markdown",
      "source": [
        "Module"
      ],
      "metadata": {
        "id": "CbqPXfEsRHi8"
      }
    },
    {
      "cell_type": "code",
      "source": [
        "module Bis_Met_mod\n",
        "\n",
        "  implicit none \n",
        "  \n",
        "  real ::a,b,c,x1,x0,x2,x,y1,y2,y0\n",
        "  \n",
        "  contains\n",
        "  \n",
        "  ! .....................................................(function 1)\n",
        "  real function pol(a,b,c,x)\n",
        "  \n",
        "  implicit none\n",
        "  \n",
        "  real,intent(in) :: a,b,c,x\n",
        "  \n",
        "  pol=a*(x**2)+(b*x)+c \n",
        "  \n",
        "  end function  pol\n",
        "  \n",
        "end module Bis_Met_mod"
      ],
      "metadata": {
        "id": "Jc91CyrgRGWu"
      },
      "execution_count": null,
      "outputs": []
    },
    {
      "cell_type": "markdown",
      "source": [
        "Main Program"
      ],
      "metadata": {
        "id": "TB7nNI-2RKdJ"
      }
    },
    {
      "cell_type": "code",
      "source": [
        "program Bisection_Method\n",
        "\n",
        "  use Bis_Met_mod\n",
        "  implicit none\n",
        "\n",
        "  logical :: range_t\n",
        "  real,parameter :: lim = 0.000001\n",
        "  real :: dif\n",
        "    \n",
        "  \n",
        "  print*,\"Enter the Coefficents a,b,c respectively \"\n",
        "  read(*,*)a,b,c\n",
        "  \n",
        "  \n",
        "  \n",
        "  print*,\"Give the range of x0 and x1\"\n",
        "  read(*,*) x0, x1\n",
        "  \n",
        "  dif_loop: do\n",
        "  \n",
        "  !.....................................................(1)\n",
        "  x=x0\n",
        "  y0=pol(a,b,c,x)\n",
        "  !print*,\"y0\",y0\n",
        "  x=x1\n",
        "  y1=pol(a,b,c,x)\n",
        "  !print*,\"y1\",y1\n",
        "  \n",
        "  !.....................................................(range test)\n",
        "  range_test: if (y1*y0 < 0) then\n",
        "   \n",
        "   !print*,\"y1*y0\",y1*y0\n",
        "   !print*,\"The range is acceptable\"\n",
        "   range_t = .true.\n",
        "   \n",
        "  else\n",
        "  \n",
        "   print*,\"y1*y0\",y1*y0\n",
        "   print*,\"The range is not acceptable\"\n",
        "   range_t = .false.\n",
        "   \n",
        "  end if  range_test\n",
        "  \n",
        "  !...................................................(x2 calculation)\n",
        "  x2_cal: if( range_t ) then\n",
        "  \n",
        "  x2=(x0+x1)/2.0\n",
        "  x=x2\n",
        "  y2=pol(a,b,c,x)\n",
        "  \n",
        "  end if x2_cal\n",
        "  \n",
        "  !.................................................(reducing width)\n",
        "  \n",
        "  rw : if (y0*y2 < 0) then\n",
        "  \n",
        "  x1 = x2\n",
        "  \n",
        "  else rw\n",
        "  \n",
        "  x0 = x2\n",
        "  \n",
        "  end if rw\n",
        "  \n",
        "  \n",
        "  \n",
        "  dif = abs(x1 - x0)\n",
        "  \n",
        "  \n",
        "  !.....................................................(Exit value)\n",
        "  \n",
        "  if ( dif <= lim .or. .not.(range_t)) exit dif_loop\n",
        "  \n",
        "  end do dif_loop\n",
        "  \n",
        "  print*,\"One of the value of x =\",(x0+x1)/2.0\n",
        "  \n",
        "end program Bisection_Method"
      ],
      "metadata": {
        "id": "nEzxE6fgRMVJ"
      },
      "execution_count": null,
      "outputs": []
    },
    {
      "cell_type": "markdown",
      "source": [
        "## Bisection Method updated "
      ],
      "metadata": {
        "id": "HKlH2aDCt05j"
      }
    },
    {
      "cell_type": "markdown",
      "source": [
        "Added open statement to store data points"
      ],
      "metadata": {
        "id": "ONuXh6ewuH6H"
      }
    },
    {
      "cell_type": "markdown",
      "source": [
        "**Module**"
      ],
      "metadata": {
        "id": "pwi79AzjuCmk"
      }
    },
    {
      "cell_type": "code",
      "source": [
        "module Bis_Met_mod\n",
        "\n",
        "  implicit none \n",
        "  \n",
        "  real ::a,b,c,x1,x0,x2,x,y1,y2,y0\n",
        "  \n",
        "  contains\n",
        "  \n",
        "  ! .....................................................(function 1)\n",
        "  real function pol(a,b,c,x)\n",
        "  \n",
        "  implicit none\n",
        "  \n",
        "  real,intent(in) :: a,b,c,x\n",
        "  \n",
        "  pol=a*(x**2)+(b*x)+c \n",
        "  \n",
        "  end function  pol\n",
        "  \n",
        "end module Bis_Met_mod"
      ],
      "metadata": {
        "id": "F5wd2SWht-TE"
      },
      "execution_count": null,
      "outputs": []
    },
    {
      "cell_type": "markdown",
      "source": [
        "**Main program**"
      ],
      "metadata": {
        "id": "_O8Kd8jpuE4P"
      }
    },
    {
      "cell_type": "code",
      "source": [
        "program Bisection_Method\n",
        "\n",
        "  use Bis_Met_mod\n",
        "  implicit none\n",
        "\n",
        "  logical :: range_t\n",
        "  real,parameter :: lim = 0.000001\n",
        "  real :: dif\n",
        "  integer :: stat,nval = 0\n",
        "  character(len = 80) :: msg\n",
        "  \n",
        "  print*,\"Enter the Coefficents a,b,c respectively \"\n",
        "  read(*,*)a,b,c\n",
        "  \n",
        "  \n",
        "  \n",
        "  print*,\"Give the range of x0 and x1\"\n",
        "  read(*,*) x0, x1\n",
        "  \n",
        "  open(3,file='Bisection_Method.txt',status='unknown',action='write',iostat=stat, iomsg=msg)\n",
        "  \n",
        "  fileopen: if ( stat == 0 ) then\n",
        "  \n",
        "  dif_loop: do\n",
        "  \n",
        "  !.....................................................(1)\n",
        "  x=x0\n",
        "  y0=pol(a,b,c,x)\n",
        "  !print*,\"y0\",y0\n",
        "  x=x1\n",
        "  y1=pol(a,b,c,x)\n",
        "  !print*,\"y1\",y1\n",
        "  \n",
        "  !.....................................................(range test)\n",
        "  range_test: if (y1*y0 < 0) then\n",
        "   \n",
        "   !print*,\"y1*y0\",y1*y0\n",
        "   !print*,\"The range is acceptable\"\n",
        "   range_t = .true.\n",
        "   \n",
        "   write(3,*) x0,y0\n",
        "   write(3,*) x1,y1\n",
        "   \n",
        "  else\n",
        "  \n",
        "   print*,\"y1*y0\",y1*y0\n",
        "   print*,\"The range is not acceptable\"\n",
        "   range_t = .false.\n",
        "   \n",
        "  end if  range_test\n",
        "  \n",
        "  !...................................................(x2 calculation)\n",
        "  x2_cal: if( range_t ) then\n",
        "  \n",
        "  x2=(x0+x1)/2.0\n",
        "  x=x2\n",
        "  y2=pol(a,b,c,x)\n",
        "  \n",
        "  end if x2_cal\n",
        "  \n",
        "  !.................................................(reducing width)\n",
        "  \n",
        "  rw : if (y0*y2 < 0) then\n",
        "  \n",
        "  x1 = x2\n",
        "  \n",
        "  else rw\n",
        "  \n",
        "  x0 = x2\n",
        "  \n",
        "  end if rw\n",
        "  \n",
        "  \n",
        "  \n",
        "  dif = abs(x1 - x0)\n",
        "  \n",
        "  \n",
        "  !.....................................................(Exit value)\n",
        "  nval = nval + 1\n",
        "  if ( dif <= lim .or. .not.(range_t)) exit dif_loop\n",
        "  \n",
        "  end do dif_loop\n",
        "  \n",
        "  print*,\"One of the value of x =\",(x0+x1)/2.0\n",
        "  print*,\"No. of iterations =\",nval\n",
        "  \n",
        "  else fileopen\n",
        "  \n",
        "  print*,\"Error\",trim(msg)\n",
        "  \n",
        "  end if fileopen\n",
        "  \n",
        "end program Bisection_Method"
      ],
      "metadata": {
        "id": "UiAdWqsKt7eN"
      },
      "execution_count": null,
      "outputs": []
    },
    {
      "cell_type": "markdown",
      "source": [
        "# False Position Method"
      ],
      "metadata": {
        "id": "WDexTI_XQKAN"
      }
    },
    {
      "cell_type": "markdown",
      "source": [
        "Eventhough False position method and bisection method follows almost same structure False Position requires less computing power"
      ],
      "metadata": {
        "id": "Aw3ze9MLRVaJ"
      }
    },
    {
      "cell_type": "markdown",
      "source": [
        "Main Program "
      ],
      "metadata": {
        "id": "xbbV9Y-LRCXR"
      }
    },
    {
      "cell_type": "code",
      "source": [
        "program False_Position\n",
        "\n",
        " use FP_mod\n",
        " implicit none\n",
        " \n",
        " real(kind=16),parameter :: lim=0.0000001\n",
        " integer :: nval = 0\n",
        " \n",
        "! print*,\"lim\",lim\n",
        " \n",
        " print*,\"Enter the value of coefficents a,b,c\"\n",
        " read(*,*)a,b,c\n",
        " print*,\"Enter the range of x(lower to upper)\"\n",
        " read(*,*)x0,x1\n",
        " \n",
        " y0=pol(a,b,c,x0)\n",
        " \n",
        " y1=pol(a,b,c,x1)\n",
        "! print*,\"y0\",y0\n",
        "! print*,\"y1\",y1\n",
        "! print*,y1*y0\n",
        " \n",
        " if (y0*y1 < 0) then\n",
        " \n",
        " reduction: do !...........................................reduction loop\n",
        " \n",
        "   y0=pol(a,b,c,x0)\n",
        "   y1=pol(a,b,c,x1)\n",
        "!   print*,y1,\" \",y0\n",
        "   x2= ((x0*y1)-(x1*y0))/(y1-y0)\n",
        "   y2=pol(a,b,c,x2)\n",
        "   \n",
        "!   print*,x2,y2\n",
        "   nval = nval +1\n",
        "   !.......................................................exit statement\n",
        "   if (abs(y2-0.0)< lim) exit\n",
        "   \n",
        "   interchange:if (y2*y0 < 0) then !......................... interchange\n",
        "   \n",
        "   x1=x2\n",
        "   \n",
        "   else\n",
        "   \n",
        "   x0=x2\n",
        "   \n",
        "   end if interchange\n",
        "   \n",
        "  end do reduction\n",
        "  \n",
        "  print*,\"the value of x = \",x2\n",
        "  print*,\"No. of cycles = \",nval\n",
        "\n",
        " else\n",
        " \n",
        " print*,\"The range is not acceptable\"\n",
        " \n",
        " end if \n",
        "\n",
        "end program False_Position"
      ],
      "metadata": {
        "id": "Ta2FZkpjQQbu"
      },
      "execution_count": null,
      "outputs": []
    },
    {
      "cell_type": "markdown",
      "source": [
        "Module"
      ],
      "metadata": {
        "id": "_6DFz_6mRFNf"
      }
    },
    {
      "cell_type": "code",
      "source": [
        "module FP_mod\n",
        "\n",
        "implicit none\n",
        "save\n",
        "\n",
        "real :: a,b,c,x0,x1,x2,y0,y1,y2\n",
        "\n",
        "contains\n",
        "\n",
        "real function pol(a,b,c,x)\n",
        "\n",
        "implicit none\n",
        "\n",
        "real,intent(in) :: a,b,c,x\n",
        "\n",
        "pol= a*(x**2)+(b*x)+c\n",
        "\n",
        "end function\n",
        "\n",
        "end module FP_mod"
      ],
      "metadata": {
        "id": "-6c21pXgRG0L"
      },
      "execution_count": null,
      "outputs": []
    },
    {
      "cell_type": "markdown",
      "source": [
        "# Newton_Raphson"
      ],
      "metadata": {
        "id": "0yIGaEkv75I5"
      }
    },
    {
      "cell_type": "markdown",
      "source": [
        "Module"
      ],
      "metadata": {
        "id": "vJAXw0gz8D-i"
      }
    },
    {
      "cell_type": "code",
      "source": [
        "module NR_mod\n",
        "\n",
        "  implicit none\n",
        "  save\n",
        "  \n",
        "  real :: a,b,c,x,x0,x1,y0,y1\n",
        "  \n",
        "  contains\n",
        "  \n",
        "  real function pol_1(a,b,c,x) !.............................function _1\n",
        "  \n",
        "  implicit none\n",
        "  real,intent(in) :: a,b,c,x\n",
        "  \n",
        "  pol_1=a*(x**2)+(b*x)+c\n",
        "  \n",
        "  end function pol_1\n",
        "\n",
        "  real function pol_2(a,b,x)\n",
        "  \n",
        "    implicit none\n",
        "    \n",
        "    real,intent(in) :: a,b,x\n",
        "    \n",
        "    pol_2= (2*x*a)+b\n",
        "  \n",
        "  end function pol_2  \n",
        "  \n",
        "\n",
        "end module NR_mod"
      ],
      "metadata": {
        "id": "AAWMamEN79ed"
      },
      "execution_count": null,
      "outputs": []
    },
    {
      "cell_type": "markdown",
      "source": [
        "Main Program"
      ],
      "metadata": {
        "id": "xim5ZPOc8G7z"
      }
    },
    {
      "cell_type": "code",
      "source": [
        "program Newton_Raphson\n",
        "\n",
        "  use NR_mod\n",
        "  implicit none\n",
        "  \n",
        "  real,parameter :: lim=0.0000001\n",
        "  integer :: nval=0\n",
        "  \n",
        "  print*,\"Enter the value of coefficents a,b,c\"\n",
        "  read(*,*) a,b,c\n",
        "  \n",
        "  print*,\"Enter the value  of x\"\n",
        "  read(*,*) x0\n",
        "  \n",
        "  do \n",
        "  \n",
        "  x=x0\n",
        "  \n",
        "  y0=pol_1(a,b,c,x)\n",
        "  \n",
        "  if ((y0-0) < lim) exit\n",
        "  \n",
        "  y1=pol_2(a,b,x)\n",
        "\n",
        "  x1=x0-(y0/y1)\n",
        "  \n",
        "  x0=x1\n",
        "  \n",
        "  nval= nval+1\n",
        "     \n",
        "  end do\n",
        "  \n",
        "  print*,\"root of the function = \",x0\n",
        "  print*,\"Number of  iterations = \",nval    \n",
        "\n",
        "end program Newton_Raphson"
      ],
      "metadata": {
        "id": "w6jb94XG8J_U"
      },
      "execution_count": null,
      "outputs": []
    },
    {
      "cell_type": "markdown",
      "source": [
        "# Gauss Elimination method"
      ],
      "metadata": {
        "id": "dwUOO465AfmN"
      }
    },
    {
      "cell_type": "markdown",
      "source": [
        "## Triagularization of Matrix"
      ],
      "metadata": {
        "id": "7hsp5X4zAnT4"
      }
    },
    {
      "cell_type": "code",
      "source": [
        "program GE\n",
        "\n",
        " implicit none\n",
        " integer,parameter :: n=3  ! don't  forget to change  format 103\n",
        " \n",
        " real,dimension(n,(n+1)) :: a\n",
        " integer :: i,j,k\n",
        " real :: u\n",
        " \n",
        " read_1:do i=1,n ! row\n",
        " read_2:do j=1,n+1 ! Column\n",
        " \n",
        " write(*,101)\"Enter a(\",i,j,\")\"\n",
        " 101 format(A,2I1,A)\n",
        " read(*,*)a(i,j)\n",
        " \n",
        " end do read_2\n",
        " end do read_1\n",
        " \n",
        " write(*,102)transpose(a)\n",
        " 102 format(4(f5.2,x))\n",
        " \n",
        "\n",
        " \n",
        " column:do k=1,n-1  ! No.of rows minus  one\n",
        " row:do i=k+1,n  ! no. of rows\n",
        " \n",
        " u= a(i,k)/a(k,k)\n",
        " element:do j=k,n+1 ! Total no. of columns\n",
        " \n",
        "  a(i,j)= a(i,j)-(u*a(k,j))\n",
        "  \n",
        "  print*,\"==============================\"\n",
        " write(*,103)transpose(a)\n",
        " \n",
        " end do element\n",
        " end do row\n",
        "  \n",
        " end do column\n",
        "  \n",
        " 103 format(4(f7.3,x))\n",
        " \n",
        " \n",
        " \n",
        "end program GE"
      ],
      "metadata": {
        "id": "flAKEZcjAlJI"
      },
      "execution_count": null,
      "outputs": []
    },
    {
      "cell_type": "markdown",
      "source": [
        "## check"
      ],
      "metadata": {
        "id": "H3YmE2HaNQiu"
      }
    },
    {
      "cell_type": "code",
      "source": [
        "program GE\n",
        "\n",
        " implicit none\n",
        " integer,parameter :: n=3  ! don't  forget to change  format 103\n",
        " \n",
        " real,dimension(n,(n+1)) :: a\n",
        " integer :: i,j,k\n",
        " real :: u\n",
        " \n",
        " read_1:do i=1,n ! row\n",
        " read_2:do j=1,n+1 ! Column\n",
        " \n",
        " write(*,101)\"Enter a(\",i,j,\")\"\n",
        " 101 format(A,2I1,A)\n",
        " read(*,*)a(i,j)\n",
        " \n",
        " end do read_2\n",
        " end do read_1\n",
        " \n",
        " write(*,102)transpose(a)\n",
        " 102 format(4(f5.2,x))\n",
        " \n",
        "\n",
        " \n",
        " column:do k=1,n-1  ! No.of rows minus  one\n",
        " row:do i=k+1,n  ! no. of rows\n",
        " \n",
        " u= a(i,k)/a(k,k)\n",
        " element:do j=k,n+1 ! Total no. of columns\n",
        " \n",
        "  a(i,j)= a(i,j)-(u*a(k,j))\n",
        "  \n",
        "  print*,\"==============================\"\n",
        " write(*,103)transpose(a)\n",
        " \n",
        " end do element\n",
        " end do row\n",
        "  \n",
        " end do column\n",
        "  \n",
        " 103 format(4(f7.3,x))\n",
        " \n",
        " \n",
        " rcolumn: do k=n-1,1,-1\n",
        " rrow:do i=k-1,1,-1\n",
        " u=a(i,k)/a(k,k)\n",
        " relement: do j=1,k\n",
        " a(i,j)=a(i,j)-u*a(j,k)\n",
        " print*,\"=====================================\"\n",
        "  write(*,103)transpose(a)\n",
        " \n",
        " end do relement\n",
        " end do rrow\n",
        " end do rcolumn\n",
        " print*,\"=====================================\"\n",
        "  write(*,103)transpose(a)\n",
        " \n",
        " \n",
        " \n",
        "end program GE"
      ],
      "metadata": {
        "id": "0Y0EI3ceNO8D"
      },
      "execution_count": null,
      "outputs": []
    },
    {
      "cell_type": "markdown",
      "source": [
        "## Diagonalization of Matrix"
      ],
      "metadata": {
        "id": "ba_I2zHkIpYx"
      }
    },
    {
      "cell_type": "code",
      "source": [
        "program GE\n",
        "\n",
        " implicit none\n",
        " integer,parameter :: n=3  ! don't  forget to change  format 103 and 102\n",
        " \n",
        " real,dimension(n,(n+1)) :: a\n",
        " integer :: i,j,k\n",
        " real :: u\n",
        " \n",
        " read_1:do i=1,n ! row\n",
        " read_2:do j=1,n+1 ! Column\n",
        " \n",
        " write(*,101)\"Enter a(\",i,j,\")\"\n",
        " 101 format(A,2I1,A)\n",
        " read(*,*)a(i,j)\n",
        " \n",
        " end do read_2\n",
        " end do read_1\n",
        " \n",
        " write(*,102)transpose(a)\n",
        " 102 format(4(f5.2,x)) !...................................format 102\n",
        " \n",
        "\n",
        " \n",
        " column:do k=1,n-1  ! No.of rows minus  one\n",
        " row:do i=k+1,n  ! no. of rows\n",
        " \n",
        " u= a(i,k)/a(k,k)\n",
        " element:do j=k,n+1 ! Total no. of columns\n",
        " \n",
        "  a(i,j)= a(i,j)-(u*a(k,j))\n",
        "  \n",
        "  print*,\"==============================\"\n",
        " write(*,103)transpose(a)\n",
        " \n",
        " end do element\n",
        " end do row\n",
        "  \n",
        " end do column\n",
        "  \n",
        " 103 format(4(f7.3,x)) !...................................format 103\n",
        " \n",
        " print*,\"*******************************\"\n",
        " \n",
        " rcolumn:do k=n,2,-1\n",
        " rrow:do  i=k-1,1,-1\n",
        " u=a(i,k)/a(k,k)\n",
        " relement : do j=k+1,1,-1\n",
        " \n",
        " a(i,j)=a(i,j)-(u*a(k,j))\n",
        " \n",
        " print*,\"********************************\"\n",
        " write(*,103)transpose(a)\n",
        " \n",
        " end do relement\n",
        " end do rrow\n",
        " end do rcolumn\n",
        "\n",
        " \n",
        " \n",
        "end program GE"
      ],
      "metadata": {
        "id": "RU01FW-wIs-b"
      },
      "execution_count": null,
      "outputs": []
    },
    {
      "cell_type": "markdown",
      "source": [
        "## Solution of equation"
      ],
      "metadata": {
        "id": "N-qRPRGOMlcQ"
      }
    },
    {
      "cell_type": "code",
      "source": [
        "program GE\n",
        "\n",
        " implicit none\n",
        " integer,parameter :: n=2  ! don't  forget to change  format 103 and 102\n",
        " \n",
        " real,dimension(n,(n+1)) :: a\n",
        " integer :: i,j,k\n",
        " real :: u\n",
        " \n",
        " read_1:do i=1,n ! row\n",
        " read_2:do j=1,n+1 ! Column\n",
        " \n",
        " write(*,101)\"Enter a(\",i,j,\")\"\n",
        " 101 format(A,2I1,A)\n",
        " read(*,*)a(i,j)\n",
        " \n",
        " end do read_2\n",
        " end do read_1\n",
        " \n",
        " write(*,102)transpose(a)\n",
        " 102 format(3(f5.2,x)) !................................format 102 :(n+1)\n",
        " \n",
        "\n",
        " \n",
        " column:do k=1,n-1  ! No.of rows minus  one\n",
        " row:do i=k+1,n  ! no. of rows\n",
        " \n",
        " u= a(i,k)/a(k,k)\n",
        " element:do j=k,n+1 ! Total no. of columns\n",
        " \n",
        "  a(i,j)= a(i,j)-(u*a(k,j))\n",
        "  \n",
        "  print*,\"==============================\"\n",
        " write(*,103)transpose(a)\n",
        " \n",
        " end do element\n",
        " end do row\n",
        "  \n",
        " end do column\n",
        "  \n",
        " 103 format(3(f7.3,x)) !...............................format 103 :(n+1)\n",
        " \n",
        " print*,\"*******************************\"\n",
        " \n",
        " rcolumn:do k=n,2,-1\n",
        " rrow:do  i=k-1,1,-1\n",
        " u=a(i,k)/a(k,k)\n",
        " relement : do j=k+1,1,-1\n",
        " \n",
        " a(i,j)=a(i,j)-(u*a(k,j))\n",
        " \n",
        " print*,\"********************************\"\n",
        " write(*,103)transpose(a)\n",
        " \n",
        " end do relement\n",
        " end do rrow\n",
        " end do rcolumn\n",
        "\n",
        " !********************Solution*********************************\n",
        " \n",
        " solution: do i=1,n\n",
        " \n",
        " a(i,i) = a(i,(n+1))/a(i,i)\n",
        " print*,\"solution a(\",i,\") = \",a(i,i)\n",
        " end do solution\n",
        " \n",
        " \n",
        "end program GE"
      ],
      "metadata": {
        "id": "pBPzKtbvMqR-"
      },
      "execution_count": null,
      "outputs": []
    }
  ]
}